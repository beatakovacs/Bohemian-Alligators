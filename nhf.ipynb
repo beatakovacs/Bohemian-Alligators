{
 "cells": [
  {
   "cell_type": "code",
   "execution_count": 1,
   "metadata": {},
   "outputs": [],
   "source": [
    "import numpy as np\n",
    "import pandas as pd\n",
    "import os\n",
    "import cv2\n",
    "import matplotlib.pyplot as plt\n",
    "import matplotlib.image as mpimg\n",
    "from os import listdir\n",
    "from os.path import isfile, join\n"
   ]
  },
  {
   "cell_type": "code",
   "execution_count": 20,
   "metadata": {},
   "outputs": [],
   "source": [
    "from keras.preprocessing import image\n",
    "data_filenames = []\n",
    "for root, dirs, files in os.walk('data/raw_images/'):  \n",
    "    for filename in files:\n",
    "        data_filenames.append(filename)\n",
    "\n",
    "data = [mpimg.imread('data/raw_images/' + filename) for filename in (data_filenames)]\n",
    "\n",
    "annot_filenames = []\n",
    "for root, dirs, files in os.walk('data/class_color/'):  \n",
    "    for filename in files:\n",
    "        annot_filenames.append(filename)\n",
    "        \n",
    "annot = [image.load_img('data/class_color/' + filename) for filename in (annot_filenames)]"
   ]
  },
  {
   "cell_type": "code",
   "execution_count": 22,
   "metadata": {},
   "outputs": [
    {
     "data": {
      "image/png": "[encoded data removed]",
      "text/plain": [
       "<Figure size 432x288 with 1 Axes>"
      ]
     },
     "metadata": {
      "needs_background": "light"
     },
     "output_type": "display_data"
    }
   ],
   "source": [
    "nb_samples=len(data_filenames)\n",
    "valid_split = 0.2\n",
    "test_split = 0.1\n",
    "\n",
    "data_train = data[0:int(nb_samples*(1-valid_split-test_split))]\n",
    "annot_train = annot[0:int(nb_samples*(1-valid_split-test_split))]\n",
    "data_valid = data[int(nb_samples*(1-valid_split-test_split)):int(nb_samples*(1-test_split))]\n",
    "annot_valid = annot[int(nb_samples*(1-valid_split-test_split)):int(nb_samples*(1-test_split))]\n",
    "data_test  = data[int(nb_samples*(1-test_split)):]\n",
    "annot_test  = annot[int(nb_samples*(1-test_split)):]\n",
    "\n",
    "image = annot_valid[0]\n",
    "plt.imshow(image)\n",
    "plt.show()\n"
   ]
  },
  {
   "cell_type": "code",
   "execution_count": 4,
   "metadata": {},
   "outputs": [
    {
     "name": "stdout",
     "output_type": "stream",
     "text": [
      "Number of categories: 41 \n",
      "\n"
     ]
    }
   ],
   "source": [
    "categories = pd.read_csv('data/categories.csv', sep=',')\n",
    "categories.head()\n",
    "print('Number of categories:', len(categories), \"\\n\")\n"
   ]
  },
  {
   "cell_type": "code",
   "execution_count": 5,
   "metadata": {},
   "outputs": [
    {
     "name": "stdout",
     "output_type": "stream",
     "text": [
      "100\n"
     ]
    }
   ],
   "source": [
    "#number of dataset\n",
    "print(len(data))"
   ]
  },
  {
   "cell_type": "code",
   "execution_count": 6,
   "metadata": {},
   "outputs": [
    {
     "name": "stdout",
     "output_type": "stream",
     "text": [
      "Subcategories and their representational colors [R, G, B]: \n",
      "\n",
      "                     unlabeled \t[0, 0, 0]\n",
      "                       dynamic \t[111, 74, 0]\n",
      "                   ego vehicle \t[0, 0, 0]\n",
      "                        ground \t[81, 0, 81]\n",
      "                        static \t[0, 0, 0]\n",
      "                       parking \t[250, 170, 160]\n",
      "                    rail track \t[230, 150, 140]\n",
      "                          road \t[128, 64, 128]\n",
      "                      sidewalk \t[244, 35, 232]\n",
      "                        bridge \t[150, 100, 100]\n",
      "                      building \t[70, 70, 70]\n",
      "                         fence \t[190, 153, 153]\n",
      "                        garage \t[180, 100, 180]\n",
      "                    guard rail \t[180, 165, 180]\n",
      "                        tunnel \t[150, 120, 90]\n",
      "                         wall  \t[102, 102, 156]\n",
      "                        banner \t[250, 170, 100]\n",
      "                     billboard \t[220, 220, 250]\n",
      "                  lane divider \t[255, 165, 0]\n",
      "                  parking sign \t[220, 20, 60]\n",
      "                          pole \t[153, 153, 153]\n",
      "                     polegroup \t[153, 153, 153]\n",
      "                  street light \t[220, 220, 100]\n",
      "                  traffic cone \t[255, 70, 0]\n",
      "                traffic device \t[220, 220, 220]\n",
      "                 traffic light \t[250, 170, 30]\n",
      "                  traffic sign \t[220, 220, 0]\n",
      "            traffic sign frame \t[250, 170, 250]\n",
      "                       terrain \t[152, 251, 152]\n",
      "                    vegetation \t[107, 142, 35]\n",
      "                           sky \t[70, 130, 180]\n",
      "                        person \t[220, 20, 60]\n",
      "                         rider \t[255, 0, 0]\n",
      "                       bicycle \t[119, 11, 32]\n",
      "                           bus \t[0, 60, 100]\n",
      "                           car \t[0, 0, 142]\n",
      "                       caravan \t[0, 0, 90]\n",
      "                    motorcycle \t[0, 0, 230]\n",
      "                       trailer \t[0, 0, 110]\n",
      "                         train \t[0, 80, 100]\n",
      "                         truck \t[0, 0, 70]\n",
      "\n",
      "Subcategories by their categories: \n",
      "\n",
      "void:\n",
      "\t\tunlabeled\n",
      "\t\tdynamic\n",
      "\t\tego vehicle\n",
      "\t\tground\n",
      "\t\tstatic\n",
      "\n",
      "flat:\n",
      "\t\tparking\n",
      "\t\trail track\n",
      "\t\troad\n",
      "\t\tsidewalk\n",
      "\n",
      "construction:\n",
      "\t\tbridge\n",
      "\t\tbuilding\n",
      "\t\tfence\n",
      "\t\tgarage\n",
      "\t\tguard rail\n",
      "\t\ttunnel\n",
      "\t\twall \n",
      "\n",
      "object:\n",
      "\t\tbanner\n",
      "\t\tbillboard\n",
      "\t\tlane divider\n",
      "\t\tparking sign\n",
      "\t\tpole\n",
      "\t\tpolegroup\n",
      "\t\tstreet light\n",
      "\t\ttraffic cone\n",
      "\t\ttraffic device\n",
      "\t\ttraffic light\n",
      "\t\ttraffic sign\n",
      "\t\ttraffic sign frame\n",
      "\n",
      "nature:\n",
      "\t\tterrain\n",
      "\t\tvegetation\n",
      "\n",
      "sky:\n",
      "\t\tsky\n",
      "\n",
      "human:\n",
      "\t\tperson\n",
      "\t\trider\n",
      "\n",
      "vehicle:\n",
      "\t\tbicycle\n",
      "\t\tbus\n",
      "\t\tcar\n",
      "\t\tcaravan\n",
      "\t\tmotorcycle\n",
      "\t\ttrailer\n",
      "\t\ttrain\n",
      "\t\ttruck\n"
     ]
    }
   ],
   "source": [
    "subcat = []\n",
    "no_subcat = 0\n",
    "for row in categories.name:\n",
    "    subcat.append(row)\n",
    "no_subcat = len(subcat)\n",
    "\n",
    "cat = []\n",
    "for row in categories.category:\n",
    "    cat.append(row)\n",
    "\n",
    "catid = []\n",
    "for row in categories.catId:\n",
    "    catid.append(row)\n",
    "no_cat = 1\n",
    "act = catid[0]\n",
    "for i in range(len(catid)):\n",
    "    if catid[i]!=act:\n",
    "        no_cat+=1\n",
    "        act=catid[i]\n",
    "\n",
    "col = []\n",
    "for row in categories.color:\n",
    "    c = row.replace(\" \", \"\").split(',')\n",
    "    rgb = []\n",
    "    for i in c:\n",
    "        rgb.append(int(i))\n",
    "    col.append(rgb)\n",
    "\n",
    "print(\"Subcategories and their representational colors [R, G, B]: \\n\")\n",
    "for i in range(len(subcat)):\n",
    "    print(\"%30s \\t\" % subcat[i], end =\"\")\n",
    "    print(col[i])\n",
    "\n",
    "print(\"\\nSubcategories by their categories: \\n\")\n",
    "act = cat[0]\n",
    "print(cat[0] + \":\")\n",
    "for i in range(no_subcat):\n",
    "    if cat[i] != act:\n",
    "        print(\"\\n\" + cat[i] + \":\")\n",
    "        act=cat[i]\n",
    "    print(\"\\t\\t\"+subcat[i])"
   ]
  }
 ],
 "metadata": {
  "kernelspec": {
   "display_name": "Python 3",
   "language": "python",
   "name": "python3"
  },
  "language_info": {
   "codemirror_mode": {
    "name": "ipython",
    "version": 3
   },
   "file_extension": ".py",
   "mimetype": "text/x-python",
   "name": "python",
   "nbconvert_exporter": "python",
   "pygments_lexer": "ipython3",
   "version": "3.6.6"
  }
 },
 "nbformat": 4,
 "nbformat_minor": 2
}
