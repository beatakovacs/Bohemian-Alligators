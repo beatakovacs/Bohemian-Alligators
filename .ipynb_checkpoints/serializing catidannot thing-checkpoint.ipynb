{
 "cells": [
  {
   "cell_type": "code",
   "execution_count": 1,
   "metadata": {},
   "outputs": [],
   "source": [
    "import numpy as np\n",
    "import pandas as pd\n",
    "import glob\n",
    "import os\n",
    "import matplotlib.pyplot as plt\n",
    "import matplotlib.image as mpimg\n",
    "from os import listdir\n",
    "from os.path import isfile, join\n",
    "from PIL import Image\n",
    "from sklearn.preprocessing import StandardScaler\n",
    "import matplotlib.colors as mcolors"
   ]
  },
  {
   "cell_type": "code",
   "execution_count": null,
   "metadata": {},
   "outputs": [
    {
     "name": "stdout",
     "output_type": "stream",
     "text": [
      "Reading data...\n",
      "\n",
      "Reading annotated images of segmentation...\n"
     ]
    }
   ],
   "source": [
    "#Reading data\n",
    "print(\"Reading data...\")\n",
    "data_filenames = []\n",
    "for root, dirs, files in os.walk('data/raw_images/'):  \n",
    "    for filename in files:\n",
    "        data_filenames.append('data/raw_images/'+filename)\n",
    "\n",
    "# data = [np.array(Image.open('data/raw_images/' + filename)) for filename in data_filenames]\n",
    "# print(\"Number of raw images: \\t\", end=\"\")\n",
    "# print(len(data))\n",
    "\n",
    "print(\"\\nReading annotated images of segmentation...\")\n",
    "annot_filenames = []\n",
    "for root, dirs, files in os.walk('data/class_color/'):  \n",
    "    for filename in files:\n",
    "        annot_filenames.append(filename)\n",
    "    \n",
    "annot = [np.array(Image.open('data/class_color/' + filename).convert('RGB')) for filename in annot_filenames ]\n",
    "print(\"Number of annotated images: \\t\", end=\"\")\n",
    "print(len(annot))\n",
    "# if len(data)==len(annot):\n",
    "#     print(\"\\nAll raw images are annotated.\\n\")\n"
   ]
  },
  {
   "cell_type": "code",
   "execution_count": null,
   "metadata": {},
   "outputs": [],
   "source": [
    "#Reading .csv file containing metadata about the segmentation\n",
    "print(\"Reading file containing metadata about the segmentation...\")\n",
    "metadf = pd.read_csv('data/categories.csv', sep=',')\n",
    "\n",
    "#Organizing subcategories into an array, and counting subcategories\n",
    "subcat = []\n",
    "no_subcat = 0\n",
    "for row in metadf.name:\n",
    "    subcat.append(row)\n",
    "no_subcat = len(subcat)\n",
    "\n",
    "#Organizing categories into an array\n",
    "cat = []\n",
    "for row in metadf.category:\n",
    "    cat.append(row)\n",
    "\n",
    "#Organizing category Ids into an array\n",
    "catid = []\n",
    "for row in metadf.catId:\n",
    "    catid.append(row)\n",
    "#Counting categories\n",
    "no_cat = 1\n",
    "act = catid[0]\n",
    "categories = [] #array containing categories without duplication\n",
    "categories.append(cat[0])\n",
    "for i in range(len(catid)):\n",
    "    if catid[i]!=act:\n",
    "        categories.append(cat[i])\n",
    "        no_cat+=1\n",
    "        act=catid[i]\n",
    "\n",
    "#Organizing subcategory RGB colors into an array\n",
    "col = []\n",
    "for row in metadf.color:\n",
    "    c = row.replace(\" \", \"\").split(',')\n",
    "    rgb = []\n",
    "    for i in c:\n",
    "        rgb.append(int(i))\n",
    "    col.append(rgb)\n",
    "\n",
    "\n",
    "print('Number of segmentation subcategories:', no_subcat)\n",
    "print('Number of segmentation categories:', no_cat, \"\\n\")\n",
    "print(\"Subcategories and their representational colors [R, G, B]: \\n\")\n",
    "for i in range(len(subcat)):\n",
    "    print(\"%30s \\t\" % subcat[i], end =\"\")\n",
    "    print(col[i])\n"
   ]
  },
  {
   "cell_type": "code",
   "execution_count": null,
   "metadata": {},
   "outputs": [],
   "source": [
    "catid_annot_filenames = []\n",
    "for root, dirs, files in os.walk('data/catid_annot/'):  \n",
    "    for filename in files:\n",
    "        catid_annot_filenames.append('data/catid_annot/'+filename)\n",
    "\n",
    "catid_annot = []\n",
    "if len(catid_annot_filenames) == len(annot):\n",
    "    print('Catid Files Already Exist')\n",
    "#     for img in range(len(annot)):\n",
    "#         catid_annot_img = np.fromfile('data/catid_annot/'+str(img) +'.txt', dtype=int)\n",
    "#         catid_annot.append(catid_annot_img)\n",
    "        \n",
    "if len(catid_annot_filenames) != len(annot):\n",
    "    print('Catid Files DO NOT Exist')\n",
    "    for img in range(len(annot)):\n",
    "        catid_annot_img = []\n",
    "        for index, row in enumerate(annot[img]):\n",
    "            blabla = []\n",
    "            for j, pixel in enumerate(row):\n",
    "                blabla.append(col.index(list(row[j])))\n",
    "            catid_annot_img.append(blabla)\n",
    "        np.array(catid_annot_img).tofile('data/catid_annot/' +str(img) +'.txt')\n",
    "        catid_annot.append(catid_annot_img)\n",
    "        catid_annot_filenames = []\n",
    "        for root, dirs, files in os.walk('data/catid_annot/'):  \n",
    "            for filename in files:\n",
    "                catid_annot_filenames.append('data/catid_annot/'+filename)\n",
    "        \n",
    "# if len(catid_annot) == len(annot):\n",
    "#     print('Reading in subcategory id annotated matrices: successful')\n",
    "# else :\n",
    "#     print('Reading in subcategory id annotated matrices: UNSUCCESSFUL')"
   ]
  }
 ],
 "metadata": {
  "kernelspec": {
   "display_name": "Python 3",
   "language": "python",
   "name": "python3"
  },
  "language_info": {
   "codemirror_mode": {
    "name": "ipython",
    "version": 3
   },
   "file_extension": ".py",
   "mimetype": "text/x-python",
   "name": "python",
   "nbconvert_exporter": "python",
   "pygments_lexer": "ipython3",
   "version": "3.6.6"
  }
 },
 "nbformat": 4,
 "nbformat_minor": 2
}
