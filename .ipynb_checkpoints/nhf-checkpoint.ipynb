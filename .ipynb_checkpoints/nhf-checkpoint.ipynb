{
 "cells": [
  {
   "cell_type": "code",
   "execution_count": 1,
   "metadata": {},
   "outputs": [],
   "source": [
    "import numpy as np\n",
    "import pandas as pd\n",
    "import os\n",
    "import cv2\n",
    "import matplotlib.pyplot as plt\n",
    "import matplotlib.image as mpimg\n",
    "from os import listdir\n",
    "from os.path import isfile, join\n",
    "from PIL import Image"
   ]
  },
  {
   "cell_type": "code",
   "execution_count": 2,
   "metadata": {},
   "outputs": [],
   "source": [
    "data_filenames = []\n",
    "for root, dirs, files in os.walk('data/raw_images/'):  \n",
    "    for filename in files:\n",
    "        data_filenames.append(filename)\n",
    "\n",
    "data = [Image.open('data/raw_images/' + filename) for filename, i in zip(data_filenames , range(50))]\n",
    "\n",
    "annot_filenames = []\n",
    "for root, dirs, files in os.walk('data/class_color/'):  \n",
    "    for filename in files:\n",
    "        annot_filenames.append(filename)\n",
    "        \n",
    "annot = [Image.open('data/class_color/' + filename) for filename, i in zip(annot_filenames , range(50))]"
   ]
  },
  {
   "cell_type": "code",
   "execution_count": 8,
   "metadata": {},
   "outputs": [
    {
     "data": {
      "image/png": "[encoded data removed]",
      "text/plain": [
       "<Figure size 432x288 with 1 Axes>"
      ]
     },
     "metadata": {
      "needs_background": "light"
     },
     "output_type": "display_data"
    },
    {
     "name": "stdout",
     "output_type": "stream",
     "text": [
      "[(17255, (180, 165, 180)), (2482, (153, 153, 153)), (4093, (152, 251, 152)), (387, (220, 220, 0)), (21, (250, 170, 30)), (7777, (250, 170, 250)), (159, (220, 220, 100)), (1695, (150, 100, 100)), (361198, (128, 64, 128)), (273, (111, 74, 0)), (53107, (107, 142, 35)), (449068, (70, 130, 180)), (14235, (0, 0, 142)), (8277, (0, 0, 70)), (1573, (0, 0, 0))]\n"
     ]
    }
   ],
   "source": [
    "nb_samples=len(data_filenames)\n",
    "valid_split = 0.2\n",
    "test_split = 0.1\n",
    "\n",
    "data_train = data[0:int(nb_samples*(1-valid_split-test_split))]\n",
    "annot_train = annot[0:int(nb_samples*(1-valid_split-test_split))]\n",
    "data_valid = data[int(nb_samples*(1-valid_split-test_split)):int(nb_samples*(1-test_split))]\n",
    "annot_valid = annot[int(nb_samples*(1-valid_split-test_split)):int(nb_samples*(1-test_split))]\n",
    "data_test  = data[int(nb_samples*(1-test_split)):]\n",
    "annot_test  = annot[int(nb_samples*(1-test_split)):]\n",
    "\n",
    "image = annot_train[0]\n",
    "plt.imshow(image)\n",
    "plt.show()\n",
    "\n"
   ]
  },
  {
   "cell_type": "code",
   "execution_count": 4,
   "metadata": {},
   "outputs": [
    {
     "name": "stdout",
     "output_type": "stream",
     "text": [
      "Number of categories: 41 \n",
      "\n"
     ]
    }
   ],
   "source": [
    "categories = pd.read_csv('data/categories.csv', sep=',')\n",
    "categories.head()\n",
    "print('Number of categories:', len(categories), \"\\n\")\n"
   ]
  },
  {
   "cell_type": "code",
   "execution_count": 5,
   "metadata": {},
   "outputs": [
    {
     "name": "stdout",
     "output_type": "stream",
     "text": [
      "50\n"
     ]
    }
   ],
   "source": [
    "#number of dataset\n",
    "print(len(data))"
   ]
  },
  {
   "cell_type": "code",
   "execution_count": 6,
   "metadata": {},
   "outputs": [
    {
     "name": "stdout",
     "output_type": "stream",
     "text": [
      "Subcategories and their representational colors [R, G, B]: \n",
      "\n",
      "                     unlabeled \t[0, 0, 0]\n",
      "                       dynamic \t[111, 74, 0]\n",
      "                   ego vehicle \t[0, 0, 0]\n",
      "                        ground \t[81, 0, 81]\n",
      "                        static \t[0, 0, 0]\n",
      "                       parking \t[250, 170, 160]\n",
      "                    rail track \t[230, 150, 140]\n",
      "                          road \t[128, 64, 128]\n",
      "                      sidewalk \t[244, 35, 232]\n",
      "                        bridge \t[150, 100, 100]\n",
      "                      building \t[70, 70, 70]\n",
      "                         fence \t[190, 153, 153]\n",
      "                        garage \t[180, 100, 180]\n",
      "                    guard rail \t[180, 165, 180]\n",
      "                        tunnel \t[150, 120, 90]\n",
      "                         wall  \t[102, 102, 156]\n",
      "                        banner \t[250, 170, 100]\n",
      "                     billboard \t[220, 220, 250]\n",
      "                  lane divider \t[255, 165, 0]\n",
      "                  parking sign \t[220, 20, 60]\n",
      "                          pole \t[153, 153, 153]\n",
      "                     polegroup \t[153, 153, 153]\n",
      "                  street light \t[220, 220, 100]\n",
      "                  traffic cone \t[255, 70, 0]\n",
      "                traffic device \t[220, 220, 220]\n",
      "                 traffic light \t[250, 170, 30]\n",
      "                  traffic sign \t[220, 220, 0]\n",
      "            traffic sign frame \t[250, 170, 250]\n",
      "                       terrain \t[152, 251, 152]\n",
      "                    vegetation \t[107, 142, 35]\n",
      "                           sky \t[70, 130, 180]\n",
      "                        person \t[220, 20, 60]\n",
      "                         rider \t[255, 0, 0]\n",
      "                       bicycle \t[119, 11, 32]\n",
      "                           bus \t[0, 60, 100]\n",
      "                           car \t[0, 0, 142]\n",
      "                       caravan \t[0, 0, 90]\n",
      "                    motorcycle \t[0, 0, 230]\n",
      "                       trailer \t[0, 0, 110]\n",
      "                         train \t[0, 80, 100]\n",
      "                         truck \t[0, 0, 70]\n",
      "\n",
      "Subcategories by their categories: \n",
      "\n",
      "void:\n",
      "\t\tunlabeled\n",
      "\t\tdynamic\n",
      "\t\tego vehicle\n",
      "\t\tground\n",
      "\t\tstatic\n",
      "\n",
      "flat:\n",
      "\t\tparking\n",
      "\t\trail track\n",
      "\t\troad\n",
      "\t\tsidewalk\n",
      "\n",
      "construction:\n",
      "\t\tbridge\n",
      "\t\tbuilding\n",
      "\t\tfence\n",
      "\t\tgarage\n",
      "\t\tguard rail\n",
      "\t\ttunnel\n",
      "\t\twall \n",
      "\n",
      "object:\n",
      "\t\tbanner\n",
      "\t\tbillboard\n",
      "\t\tlane divider\n",
      "\t\tparking sign\n",
      "\t\tpole\n",
      "\t\tpolegroup\n",
      "\t\tstreet light\n",
      "\t\ttraffic cone\n",
      "\t\ttraffic device\n",
      "\t\ttraffic light\n",
      "\t\ttraffic sign\n",
      "\t\ttraffic sign frame\n",
      "\n",
      "nature:\n",
      "\t\tterrain\n",
      "\t\tvegetation\n",
      "\n",
      "sky:\n",
      "\t\tsky\n",
      "\n",
      "human:\n",
      "\t\tperson\n",
      "\t\trider\n",
      "\n",
      "vehicle:\n",
      "\t\tbicycle\n",
      "\t\tbus\n",
      "\t\tcar\n",
      "\t\tcaravan\n",
      "\t\tmotorcycle\n",
      "\t\ttrailer\n",
      "\t\ttrain\n",
      "\t\ttruck\n"
     ]
    }
   ],
   "source": [
    "subcat = []\n",
    "no_subcat = 0\n",
    "for row in categories.name:\n",
    "    subcat.append(row)\n",
    "no_subcat = len(subcat)\n",
    "\n",
    "cat = []\n",
    "for row in categories.category:\n",
    "    cat.append(row)\n",
    "\n",
    "catid = []\n",
    "for row in categories.catId:\n",
    "    catid.append(row)\n",
    "no_cat = 1\n",
    "act = catid[0]\n",
    "for i in range(len(catid)):\n",
    "    if catid[i]!=act:\n",
    "        no_cat+=1\n",
    "        act=catid[i]\n",
    "\n",
    "col = []\n",
    "for row in categories.color:\n",
    "    c = row.replace(\" \", \"\").split(',')\n",
    "    rgb = []\n",
    "    for i in c:\n",
    "        rgb.append(int(i))\n",
    "    col.append(rgb)\n",
    "\n",
    "print(\"Subcategories and their representational colors [R, G, B]: \\n\")\n",
    "for i in range(len(subcat)):\n",
    "    print(\"%30s \\t\" % subcat[i], end =\"\")\n",
    "    print(col[i])\n",
    "\n",
    "print(\"\\nSubcategories by their categories: \\n\")\n",
    "act = cat[0]\n",
    "print(cat[0] + \":\")\n",
    "for i in range(no_subcat):\n",
    "    if cat[i] != act:\n",
    "        print(\"\\n\" + cat[i] + \":\")\n",
    "        act=cat[i]\n",
    "    print(\"\\t\\t\"+subcat[i])"
   ]
  },
  {
   "cell_type": "code",
   "execution_count": 9,
   "metadata": {},
   "outputs": [
    {
     "name": "stdout",
     "output_type": "stream",
     "text": [
      "[(17255, (180, 165, 180)), (2482, (153, 153, 153)), (4093, (152, 251, 152)), (387, (220, 220, 0)), (21, (250, 170, 30)), (7777, (250, 170, 250)), (159, (220, 220, 100)), (1695, (150, 100, 100)), (361198, (128, 64, 128)), (273, (111, 74, 0)), (53107, (107, 142, 35)), (449068, (70, 130, 180)), (14235, (0, 0, 142)), (8277, (0, 0, 70)), (1573, (0, 0, 0))]\n",
      "None\n",
      "[(11035, (180, 165, 180)), (218, (153, 153, 153)), (3242, (152, 251, 152)), (100, (220, 220, 100)), (1118, (150, 120, 90)), (1777, (220, 20, 60)), (269935, (128, 64, 128)), (644, (111, 74, 0)), (217645, (107, 142, 35)), (133980, (70, 70, 70)), (56330, (70, 130, 180)), (70800, (0, 0, 70)), (39902, (0, 0, 142)), (114874, (0, 0, 0))]\n",
      "[(102330, (244, 35, 232)), (279722, (70, 70, 70)), (7655, (180, 165, 180)), (17831, (153, 153, 153)), (193, (220, 220, 100)), (17270, (220, 220, 0)), (7046, (220, 20, 60)), (117574, (128, 64, 128)), (2694, (111, 74, 0)), (133281, (70, 130, 180)), (127380, (0, 0, 142)), (108624, (0, 0, 0))]\n",
      "[(13229, (244, 35, 232)), (2702, (153, 153, 153)), (13287, (250, 170, 160)), (1448, (250, 170, 100)), (631, (220, 220, 0)), (3005, (220, 20, 60)), (207121, (128, 64, 128)), (2418, (111, 74, 0)), (42675, (107, 142, 35)), (408178, (70, 70, 70)), (144597, (70, 130, 180)), (64005, (0, 0, 142)), (18304, (0, 0, 0))]\n",
      "[(111237, (128, 64, 128)), (6260, (70, 70, 70)), (39654, (180, 165, 180)), (14924, (153, 153, 153)), (9770, (152, 251, 152)), (254, (220, 220, 0)), (807, (250, 170, 250)), (98, (220, 220, 100)), (2454, (0, 60, 100)), (247295, (107, 142, 35)), (243072, (70, 130, 180)), (141832, (0, 0, 0)), (103943, (0, 0, 142))]\n",
      "[(91317, (244, 35, 232)), (217828, (70, 70, 70)), (19328, (153, 153, 153)), (2151, (152, 251, 152)), (317, (220, 220, 220)), (5137, (250, 170, 30)), (29560, (250, 170, 100)), (3613, (220, 220, 0)), (1086, (220, 220, 100)), (1214, (220, 20, 60)), (207786, (128, 64, 128)), (17758, (107, 142, 35)), (330, (102, 102, 156)), (2229, (81, 0, 81)), (172849, (70, 130, 180)), (805, (0, 0, 70)), (15694, (0, 0, 142)), (132598, (0, 0, 0))]\n",
      "[(515, (153, 153, 153)), (571316, (107, 142, 35)), (346538, (70, 130, 180)), (2906, (0, 0, 142)), (325, (0, 0, 0))]\n",
      "[(7791, (244, 35, 232)), (12622, (70, 70, 70)), (5921, (153, 153, 153)), (10083, (152, 251, 152)), (3285, (250, 170, 160)), (2027, (250, 170, 30)), (613, (220, 220, 0)), (230501, (128, 64, 128)), (479096, (107, 142, 35)), (3383, (102, 102, 156)), (148525, (70, 130, 180)), (1967, (0, 0, 142)), (15786, (0, 0, 0))]\n",
      "[(7904, (244, 35, 232)), (11234, (70, 70, 70)), (3763, (153, 153, 153)), (5748, (152, 251, 152)), (2443, (250, 170, 160)), (2750, (250, 170, 30)), (619, (220, 220, 0)), (228764, (128, 64, 128)), (493272, (107, 142, 35)), (4692, (102, 102, 156)), (3355, (81, 0, 81)), (151740, (70, 130, 180)), (5291, (0, 0, 142)), (25, (0, 0, 0))]\n",
      "[(5968, (244, 35, 232)), (11639, (70, 70, 70)), (3648, (153, 153, 153)), (5820, (152, 251, 152)), (2593, (250, 170, 160)), (2620, (250, 170, 30)), (612, (220, 220, 0)), (228433, (128, 64, 128)), (474192, (107, 142, 35)), (5671, (102, 102, 156)), (151097, (70, 130, 180)), (14748, (0, 0, 142)), (14559, (0, 0, 0))]\n",
      "[(9130, (244, 35, 232)), (12584, (70, 70, 70)), (5571, (153, 153, 153)), (6977, (152, 251, 152)), (3151, (250, 170, 160)), (2325, (250, 170, 30)), (628, (220, 220, 0)), (230711, (128, 64, 128)), (463916, (107, 142, 35)), (53491, (70, 130, 180)), (2762, (0, 0, 142)), (130354, (0, 0, 0))]\n",
      "[(6291, (244, 35, 232)), (11239, (70, 70, 70)), (5043, (153, 153, 153)), (6614, (152, 251, 152)), (1932, (250, 170, 160)), (2970, (250, 170, 30)), (599, (220, 220, 0)), (232166, (128, 64, 128)), (456242, (107, 142, 35)), (148687, (70, 130, 180)), (8373, (0, 0, 142)), (41444, (0, 0, 0))]\n",
      "[(3730, (244, 35, 232)), (8655, (70, 70, 70)), (3645, (153, 153, 153)), (238, (152, 251, 152)), (2784, (250, 170, 160)), (2315, (250, 170, 30)), (403, (220, 220, 0)), (165172, (128, 64, 128)), (465918, (107, 142, 35)), (1484, (81, 0, 81)), (157389, (70, 130, 180)), (106795, (0, 0, 142)), (3072, (0, 0, 0))]\n",
      "[(10645, (244, 35, 232)), (10199, (190, 153, 153)), (12361, (70, 70, 70)), (4013, (153, 153, 153)), (7776, (152, 251, 152)), (2548, (250, 170, 30)), (655, (220, 220, 0)), (224608, (128, 64, 128)), (482420, (107, 142, 35)), (3173, (102, 102, 156)), (358, (81, 0, 81)), (161768, (70, 130, 180)), (1076, (0, 0, 0))]\n",
      "[(7553, (244, 35, 232)), (10366, (70, 70, 70)), (4655, (153, 153, 153)), (8902, (152, 251, 152)), (2953, (250, 170, 160)), (2407, (250, 170, 30)), (618, (220, 220, 0)), (223262, (128, 64, 128)), (486478, (107, 142, 35)), (328, (81, 0, 81)), (163674, (70, 130, 180)), (382, (0, 0, 142)), (10022, (0, 0, 0))]\n",
      "[(9866, (244, 35, 232)), (17610, (70, 70, 70)), (3139, (153, 153, 153)), (6536, (152, 251, 152)), (2135, (250, 170, 160)), (2621, (250, 170, 30)), (694, (220, 220, 0)), (199947, (128, 64, 128)), (480349, (107, 142, 35)), (8983, (102, 102, 156)), (187788, (70, 130, 180)), (555, (0, 0, 142)), (1377, (0, 0, 0))]\n",
      "[(9530, (244, 35, 232)), (26265, (70, 70, 70)), (6786, (153, 153, 153)), (52108, (152, 251, 152)), (21570, (250, 170, 160)), (118, (250, 170, 30)), (3079, (220, 220, 0)), (85605, (128, 64, 128)), (462561, (107, 142, 35)), (16223, (102, 102, 156)), (14391, (81, 0, 81)), (215170, (70, 130, 180)), (1435, (0, 0, 142)), (6759, (0, 0, 0))]\n",
      "[(36521, (244, 35, 232)), (92814, (190, 153, 153)), (3185, (180, 165, 180)), (5105, (153, 153, 153)), (3547, (152, 251, 152)), (449, (250, 170, 30)), (4660, (220, 220, 0)), (108473, (128, 64, 128)), (474335, (107, 142, 35)), (16515, (81, 0, 81)), (171502, (70, 130, 180)), (1687, (0, 0, 142)), (2807, (0, 0, 0))]\n",
      "[(4078, (70, 70, 70)), (9403, (180, 165, 180)), (50, (153, 153, 153)), (98504, (152, 251, 152)), (103240, (128, 64, 128)), (449505, (107, 142, 35)), (25366, (81, 0, 81)), (223120, (70, 130, 180)), (506, (0, 0, 70)), (6799, (0, 0, 142)), (1029, (0, 0, 0))]\n",
      "[(2705, (70, 70, 70)), (28135, (180, 165, 180)), (9877, (153, 153, 153)), (91, (220, 220, 0)), (146526, (128, 64, 128)), (7801, (107, 142, 35)), (25068, (81, 0, 81)), (680307, (70, 130, 180)), (6529, (0, 0, 142)), (1147, (0, 0, 70)), (13414, (0, 0, 0))]\n",
      "[(2038, (70, 70, 70)), (24449, (180, 165, 180)), (23145, (153, 153, 153)), (4171, (250, 170, 30)), (10109, (220, 220, 0)), (134347, (128, 64, 128)), (9316, (107, 142, 35)), (4358, (102, 102, 156)), (37820, (81, 0, 81)), (646101, (70, 130, 180)), (265, (0, 0, 70)), (9389, (0, 0, 142)), (16092, (0, 0, 0))]\n",
      "[(27675, (70, 70, 70)), (27055, (180, 165, 180)), (3193, (153, 153, 153)), (28, (220, 220, 0)), (145567, (128, 64, 128)), (159, (111, 74, 0)), (19689, (107, 142, 35)), (9963, (102, 102, 156)), (4075, (81, 0, 81)), (647799, (70, 130, 180)), (19775, (0, 0, 142)), (2089, (0, 0, 70)), (14533, (0, 0, 0))]\n",
      "[(29199, (70, 70, 70)), (35008, (180, 165, 180)), (9368, (153, 153, 153)), (130263, (128, 64, 128)), (36411, (107, 142, 35)), (633127, (70, 130, 180)), (31585, (0, 0, 142)), (16639, (0, 0, 0))]\n",
      "[(6134, (70, 70, 70)), (36095, (180, 165, 180)), (1786, (153, 153, 153)), (3994, (152, 251, 152)), (151755, (128, 64, 128)), (34512, (107, 142, 35)), (6779, (81, 0, 81)), (649077, (70, 130, 180)), (227, (0, 0, 70)), (10745, (0, 0, 142)), (20496, (0, 0, 0))]\n",
      "[(6064, (70, 70, 70)), (28157, (180, 165, 180)), (19817, (153, 153, 153)), (200, (220, 220, 0)), (149779, (128, 64, 128)), (28935, (107, 142, 35)), (7822, (81, 0, 81)), (647239, (70, 130, 180)), (171, (0, 0, 70)), (16144, (0, 0, 142)), (17272, (0, 0, 0))]\n",
      "[(7280, (70, 70, 70)), (22288, (180, 165, 180)), (8711, (153, 153, 153)), (419, (220, 220, 0)), (139567, (128, 64, 128)), (35216, (107, 142, 35)), (17831, (81, 0, 81)), (663337, (70, 130, 180)), (353, (0, 0, 70)), (14777, (0, 0, 142)), (11821, (0, 0, 0))]\n",
      "[(8559, (70, 70, 70)), (36286, (180, 165, 180)), (10983, (153, 153, 153)), (272, (152, 251, 152)), (1727, (220, 220, 0)), (141909, (128, 64, 128)), (50448, (107, 142, 35)), (644654, (70, 130, 180)), (15042, (0, 0, 142)), (11720, (0, 0, 0))]\n",
      "[(156692, (128, 64, 128)), (2349, (70, 70, 70)), (8266, (180, 165, 180)), (808, (153, 153, 153)), (3998, (152, 251, 152)), (1170, (220, 220, 0)), (1095, (0, 60, 100)), (155744, (107, 142, 35)), (8848, (102, 102, 156)), (555407, (70, 130, 180)), (948, (0, 0, 70)), (13294, (0, 0, 142)), (12981, (0, 0, 0))]\n",
      "[(690, (70, 70, 70)), (9841, (180, 165, 180)), (2495, (153, 153, 153)), (8503, (152, 251, 152)), (919, (250, 170, 30)), (2870, (220, 220, 0)), (155854, (128, 64, 128)), (544, (111, 74, 0)), (185630, (107, 142, 35)), (11597, (102, 102, 156)), (15931, (81, 0, 81)), (488501, (70, 130, 180)), (15470, (0, 0, 142)), (4024, (0, 0, 70)), (18731, (0, 0, 0))]\n",
      "[(2570, (190, 153, 153)), (11164, (70, 70, 70)), (11096, (180, 165, 180)), (13400, (153, 153, 153)), (3043, (220, 220, 0)), (132711, (128, 64, 128)), (40067, (107, 142, 35)), (6920, (102, 102, 156)), (630783, (70, 130, 180)), (929, (0, 0, 70)), (58779, (0, 0, 142)), (10138, (0, 0, 0))]\n",
      "[(2142, (190, 153, 153)), (8632, (70, 70, 70)), (11160, (180, 165, 180)), (29791, (153, 153, 153)), (2073, (220, 220, 0)), (1557, (150, 100, 100)), (147043, (128, 64, 128)), (84514, (107, 142, 35)), (609833, (70, 130, 180)), (9244, (0, 0, 142)), (15611, (0, 0, 0))]\n",
      "[(5443, (190, 153, 153)), (50690, (70, 70, 70)), (16751, (180, 165, 180)), (6420, (153, 153, 153)), (4757, (152, 251, 152)), (2846, (220, 220, 0)), (6705, (150, 100, 100)), (139648, (128, 64, 128)), (3068, (111, 74, 0)), (52169, (107, 142, 35)), (2481, (102, 102, 156)), (25055, (81, 0, 81)), (576927, (70, 130, 180)), (11722, (0, 0, 142)), (16918, (0, 0, 0))]\n",
      "[(20538, (190, 153, 153)), (97114, (70, 70, 70)), (51829, (180, 165, 180)), (12438, (153, 153, 153)), (1213, (220, 220, 0)), (24070, (150, 100, 100)), (113223, (128, 64, 128)), (33537, (107, 142, 35)), (522771, (70, 130, 180)), (27600, (0, 0, 142)), (17267, (0, 0, 0))]\n",
      "[(37763, (70, 70, 70)), (45240, (180, 165, 180)), (5557, (153, 153, 153)), (5227, (152, 251, 152)), (1175, (220, 220, 0)), (141030, (128, 64, 128)), (545, (111, 74, 0)), (3393, (107, 142, 35)), (3286, (102, 102, 156)), (450, (81, 0, 81)), (639271, (70, 130, 180)), (17137, (0, 0, 142)), (4737, (0, 0, 70)), (16789, (0, 0, 0))]\n",
      "[(8748, (244, 35, 232)), (122594, (128, 64, 128)), (74341, (70, 70, 70)), (24054, (180, 165, 180)), (2134, (153, 153, 153)), (1048, (0, 60, 100)), (245, (111, 74, 0)), (47584, (107, 142, 35)), (577216, (70, 130, 180)), (1685, (0, 0, 70)), (55541, (0, 0, 142)), (6410, (0, 0, 0))]\n",
      "[(29881, (70, 70, 70)), (6489, (180, 165, 180)), (8742, (153, 153, 153)), (2463, (220, 220, 0)), (141088, (128, 64, 128)), (27306, (107, 142, 35)), (4365, (81, 0, 81)), (653256, (70, 130, 180)), (1334, (0, 0, 70)), (38879, (0, 0, 142)), (7797, (0, 0, 0))]\n",
      "[(19190, (70, 70, 70)), (8441, (180, 165, 180)), (1472, (153, 153, 153)), (4475, (220, 220, 0)), (137690, (128, 64, 128)), (32575, (107, 142, 35)), (2684, (81, 0, 81)), (656401, (70, 130, 180)), (350, (0, 0, 70)), (49844, (0, 0, 142)), (8478, (0, 0, 0))]\n"
     ]
    },
    {
     "name": "stdout",
     "output_type": "stream",
     "text": [
      "[(1242, (190, 153, 153)), (22397, (70, 70, 70)), (4512, (180, 165, 180)), (6158, (153, 153, 153)), (956, (220, 220, 0)), (122147, (128, 64, 128)), (22973, (107, 142, 35)), (2830, (81, 0, 81)), (646054, (70, 130, 180)), (274, (0, 0, 70)), (86234, (0, 0, 142)), (5823, (0, 0, 0))]\n",
      "[(25555, (70, 70, 70)), (8669, (180, 165, 180)), (217, (153, 153, 153)), (4011, (152, 251, 152)), (1911, (220, 220, 0)), (147326, (128, 64, 128)), (50200, (107, 142, 35)), (631588, (70, 130, 180)), (2786, (0, 0, 70)), (34132, (0, 0, 142)), (15205, (0, 0, 0))]\n",
      "[(4659, (70, 70, 70)), (3234, (180, 165, 180)), (833, (153, 153, 153)), (2396, (152, 251, 152)), (977, (220, 220, 0)), (349, (150, 100, 100)), (131931, (128, 64, 128)), (80070, (107, 142, 35)), (635049, (70, 130, 180)), (54763, (0, 0, 142)), (7339, (0, 0, 0))]\n",
      "[(8220, (190, 153, 153)), (15013, (70, 70, 70)), (11885, (180, 165, 180)), (3218, (153, 153, 153)), (23098, (152, 251, 152)), (2591, (220, 220, 0)), (818, (150, 100, 100)), (143944, (128, 64, 128)), (33571, (107, 142, 35)), (656864, (70, 130, 180)), (536, (0, 0, 70)), (17281, (0, 0, 142)), (4561, (0, 0, 0))]\n",
      "[(19462, (190, 153, 153)), (1041, (70, 70, 70)), (8724, (180, 165, 180)), (1264, (153, 153, 153)), (2266, (152, 251, 152)), (1103, (220, 220, 0)), (5038, (150, 100, 100)), (149719, (128, 64, 128)), (41764, (107, 142, 35)), (2939, (102, 102, 156)), (12288, (81, 0, 81)), (605581, (70, 130, 180)), (12702, (0, 0, 142)), (5954, (0, 0, 70)), (51755, (0, 0, 0))]\n",
      "[(125557, (128, 64, 128)), (10429, (190, 153, 153)), (2241, (70, 70, 70)), (5584, (180, 165, 180)), (716, (153, 153, 153)), (32457, (152, 251, 152)), (6079, (220, 220, 0)), (17803, (150, 100, 100)), (96, (0, 60, 100)), (137414, (107, 142, 35)), (28023, (81, 0, 81)), (530966, (70, 130, 180)), (2311, (0, 0, 70)), (16386, (0, 0, 142)), (5538, (0, 0, 0))]\n",
      "[(4237, (190, 153, 153)), (28727, (70, 70, 70)), (508, (180, 165, 180)), (2239, (153, 153, 153)), (79917, (220, 220, 0)), (552543, (150, 100, 100)), (112010, (128, 64, 128)), (7454, (107, 142, 35)), (429, (81, 0, 81)), (94095, (70, 130, 180)), (85, (0, 0, 70)), (37395, (0, 0, 142)), (1961, (0, 0, 0))]\n",
      "[(44684, (190, 153, 153)), (7971, (70, 70, 70)), (50534, (180, 165, 180)), (698, (153, 153, 153)), (2017, (152, 251, 152)), (695, (220, 220, 0)), (34, (150, 100, 100)), (108874, (128, 64, 128)), (19408, (107, 142, 35)), (657000, (70, 130, 180)), (1338, (0, 0, 70)), (26300, (0, 0, 142)), (2047, (0, 0, 0))]\n",
      "[(21031, (190, 153, 153)), (4199, (70, 70, 70)), (87981, (180, 165, 180)), (3779, (153, 153, 153)), (5109, (220, 220, 0)), (114638, (128, 64, 128)), (16424, (107, 142, 35)), (655022, (70, 130, 180)), (1162, (0, 0, 70)), (8234, (0, 0, 142)), (4021, (0, 0, 0))]\n",
      "[(2215, (244, 35, 232)), (16165, (190, 153, 153)), (21701, (70, 70, 70)), (59923, (180, 165, 180)), (58822, (153, 153, 153)), (116378, (220, 220, 0)), (249, (150, 100, 100)), (116973, (128, 64, 128)), (14446, (107, 142, 35)), (484446, (70, 130, 180)), (239, (0, 0, 70)), (23137, (0, 0, 142)), (6906, (0, 0, 0))]\n",
      "[(12791, (190, 153, 153)), (24069, (70, 70, 70)), (4066, (180, 165, 180)), (5492, (153, 153, 153)), (1140, (220, 220, 0)), (165607, (128, 64, 128)), (13677, (107, 142, 35)), (32757, (81, 0, 81)), (639336, (70, 130, 180)), (1054, (0, 0, 70)), (15880, (0, 0, 142)), (5731, (0, 0, 0))]\n",
      "[(13863, (70, 70, 70)), (60907, (180, 165, 180)), (20035, (153, 153, 153)), (77804, (220, 220, 0)), (4248, (150, 100, 100)), (93984, (128, 64, 128)), (1147, (111, 74, 0)), (11894, (107, 142, 35)), (593174, (70, 130, 180)), (9070, (0, 0, 142)), (35474, (0, 0, 0))]\n"
     ]
    }
   ],
   "source": [
    "for img in annot:\n",
    "    im_rgb = img.convert('RGB')\n",
    "    colors = im_rgb.getcolors()\n",
    "    print (colors)"
   ]
  }
 ],
 "metadata": {
  "kernelspec": {
   "display_name": "Python 3",
   "language": "python",
   "name": "python3"
  },
  "language_info": {
   "codemirror_mode": {
    "name": "ipython",
    "version": 3
   },
   "file_extension": ".py",
   "mimetype": "text/x-python",
   "name": "python",
   "nbconvert_exporter": "python",
   "pygments_lexer": "ipython3",
   "version": "3.6.6"
  }
 },
 "nbformat": 4,
 "nbformat_minor": 2
}
